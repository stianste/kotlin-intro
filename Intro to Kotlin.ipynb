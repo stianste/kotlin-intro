{
 "cells": [
  {
   "metadata": {},
   "cell_type": "markdown",
   "source": "# Null safety"
  },
  {
   "cell_type": "code",
   "metadata": {
    "collapsed": true,
    "ExecuteTime": {
     "end_time": "2024-09-12T13:34:32.993052Z",
     "start_time": "2024-09-12T13:34:32.881170Z"
    }
   },
   "source": [
    "var myString = \"Hello World\"\n",
    "myString = null\n",
    "\n",
    "// Have to explicilty state that a variable can be null\n",
    "var myNullableString: String? = \"Hello World\"\n",
    "myNullableString = null\n",
    "\n",
    "myString.length\n",
    "myNullableString?.length\n",
    "myNullableString.length // Not allowed\n",
    "\n",
    "// Useful operator (scope function, more on this later)\n",
    "myNullableString?.let {\n",
    "  println(it)\n",
    "}\n",
    "\n",
    "// Elvis operator\n",
    "myNullableString ?: \"Default Value\"\n",
    "myNullableString ?: throw IllegalArgumentException(\"Value can't be null\")\n",
    "\n",
    "\n",
    "myNullableString!!.length // Throw a null pointer exception if the value is null.\n",
    "\n",
    "// Immutability\n",
    "val immutable = \"Hello World\"\n",
    "immutable = \"something else\" // Not allowed\n",
    "\n",
    "\n"
   ],
   "outputs": [
    {
     "ename": "org.jetbrains.kotlinx.jupyter.exceptions.ReplCompilerException",
     "evalue": "Line_2.jupyter.kts (2:12 - 16) Null can not be a value of a non-null type String\nLine_2.jupyter.kts (11:17 - 18) Only safe (?.) or non-null asserted (!!.) calls are allowed on a nullable receiver of type String?",
     "output_type": "error",
     "traceback": [
      "org.jetbrains.kotlinx.jupyter.exceptions.ReplCompilerException: Line_2.jupyter.kts (2:12 - 16) Null can not be a value of a non-null type String",
      "Line_2.jupyter.kts (11:17 - 18) Only safe (?.) or non-null asserted (!!.) calls are allowed on a nullable receiver of type String?",
      "\tat org.jetbrains.kotlinx.jupyter.repl.impl.JupyterCompilerImpl.compileSync(JupyterCompilerImpl.kt:201)",
      "\tat org.jetbrains.kotlinx.jupyter.repl.impl.InternalEvaluatorImpl.eval(InternalEvaluatorImpl.kt:126)",
      "\tat org.jetbrains.kotlinx.jupyter.repl.impl.CellExecutorImpl$execute$1$result$1.invoke(CellExecutorImpl.kt:80)",
      "\tat org.jetbrains.kotlinx.jupyter.repl.impl.CellExecutorImpl$execute$1$result$1.invoke(CellExecutorImpl.kt:78)",
      "\tat org.jetbrains.kotlinx.jupyter.repl.impl.ReplForJupyterImpl.withHost(ReplForJupyterImpl.kt:738)",
      "\tat org.jetbrains.kotlinx.jupyter.repl.impl.CellExecutorImpl.execute-L4Nmkdk(CellExecutorImpl.kt:78)",
      "\tat org.jetbrains.kotlinx.jupyter.repl.execution.CellExecutor$DefaultImpls.execute-L4Nmkdk$default(CellExecutor.kt:13)",
      "\tat org.jetbrains.kotlinx.jupyter.repl.impl.ReplForJupyterImpl.evaluateUserCode-wNURfNM(ReplForJupyterImpl.kt:561)",
      "\tat org.jetbrains.kotlinx.jupyter.repl.impl.ReplForJupyterImpl.access$evaluateUserCode-wNURfNM(ReplForJupyterImpl.kt:139)",
      "\tat org.jetbrains.kotlinx.jupyter.repl.impl.ReplForJupyterImpl$evalEx$1.invoke(ReplForJupyterImpl.kt:418)",
      "\tat org.jetbrains.kotlinx.jupyter.repl.impl.ReplForJupyterImpl$evalEx$1.invoke(ReplForJupyterImpl.kt:415)",
      "\tat org.jetbrains.kotlinx.jupyter.repl.impl.ReplForJupyterImpl.withEvalContext(ReplForJupyterImpl.kt:396)",
      "\tat org.jetbrains.kotlinx.jupyter.repl.impl.ReplForJupyterImpl.evalEx(ReplForJupyterImpl.kt:415)",
      "\tat org.jetbrains.kotlinx.jupyter.messaging.IdeCompatibleMessageRequestProcessor$processExecuteRequest$1$response$1$1.invoke(IdeCompatibleMessageRequestProcessor.kt:136)",
      "\tat org.jetbrains.kotlinx.jupyter.messaging.IdeCompatibleMessageRequestProcessor$processExecuteRequest$1$response$1$1.invoke(IdeCompatibleMessageRequestProcessor.kt:135)",
      "\tat org.jetbrains.kotlinx.jupyter.execution.JupyterExecutorImpl$Task.execute(JupyterExecutorImpl.kt:42)",
      "\tat org.jetbrains.kotlinx.jupyter.execution.JupyterExecutorImpl$executorThread$1.invoke(JupyterExecutorImpl.kt:82)",
      "\tat org.jetbrains.kotlinx.jupyter.execution.JupyterExecutorImpl$executorThread$1.invoke(JupyterExecutorImpl.kt:80)",
      "\tat kotlin.concurrent.ThreadsKt$thread$thread$1.run(Thread.kt:30)",
      ""
     ]
    }
   ],
   "execution_count": 1
  },
  {
   "metadata": {},
   "cell_type": "markdown",
   "source": "# Built in functions\n"
  },
  {
   "metadata": {
    "ExecuteTime": {
     "end_time": "2024-09-17T14:02:32.365551Z",
     "start_time": "2024-09-17T14:02:31.685871Z"
    }
   },
   "cell_type": "code",
   "source": [
    "// Good bye stream api 🙏🏻\n",
    "val myList = listOf(1, 2, 3, 4, 5)\n",
    "val myMap = mapOf(1 to \"one\", 2 to \"two\", 3 to \"three\")\n",
    "val mySet = setOf(1, 2, 3, 4, 5)\n",
    "val pair = Pair(1, \"one\") // Like a tuple in Python\n",
    "val triple = Triple(1, \"one\", 1.0) // Even have tripples\n",
    "\n",
    "// Basics\n",
    "val first = myList.first()\n",
    "val firstOrNull = myList.firstOrNull { it > 5 }\n",
    "val last = myList.last()\n",
    "val sorted = myList.sorted()\n",
    "val reversed = myList.reversed()\n",
    "val even = myList.filter { it % 2 == 0 }\n",
    "val mapped = myList.map { it * 2 }\n",
    "val sum = myList.sum()\n",
    "val firstTwo = myList.take(2)\n",
    "val drop = myList.drop(2)\n",
    "val twiceAsLarge = myList + myList\n",
    "\n",
    "// More advanced\n",
    "val grouped = myList.groupBy { if (it % 2 == 0) \"even\" else \"odd\" }\n",
    "\n",
    "val count = myList.count { it % 2 == 0 }\n",
    "val chunked = myList.chunked(2)\n",
    "val windowed = myList.windowed(2)\n",
    "\n",
    "val list = listOf('a', 'A', 'b', 'B', 'A', 'a')\n",
    "println(list.distinct()) // [a, A, b, B]\n",
    "println(list.distinctBy { it.uppercaseChar() }) // [a, b]\n",
    "\n",
    "val (evenList, oddList) = myList.partition { it % 2 == 0 }\n",
    "\n",
    "val names = listOf(\"Grace Hopper\", \"Jacob Bernoulli\", \"Johann Bernoulli\")\n",
    "\n",
    "val byLastName = names.associate { it.split(\" \").let { (firstName, lastName) -> lastName to firstName } }\n",
    "val associtedBy = names.associateBy { it.uppercase() }\n",
    "println(\"Associated: $byLastName, AssociatedBy: $associtedBy, Grouped: $grouped\")\n",
    "\n",
    "// Oddly specific\n",
    "val firstNotNull = myList.firstNotNullOfOrNull { it.toString() }\n",
    "\n",
    "val nullableList: List<Int?> = listOf(1, 2, null, 4, 5)\n",
    "val nonNullList: List<Int> = nullableList.filterNotNull()\n"
   ],
   "outputs": [
    {
     "name": "stdout",
     "output_type": "stream",
     "text": [
      "Distinct: [1, 2, 3, 4, 5], DistinctBy: [1, 2], Partition: [2, 4], [1, 3, 5]\n",
      "Associated: {Hopper=Grace, Bernoulli=Johann}, AssociatedBy: {GRACE HOPPER=Grace Hopper, JACOB BERNOULLI=Jacob Bernoulli, JOHANN BERNOULLI=Johann Bernoulli}, Grouped: {odd=[1, 3, 5], even=[2, 4]}\n"
     ]
    }
   ],
   "execution_count": 1
  },
  {
   "metadata": {},
   "cell_type": "markdown",
   "source": [
    "# Data classes, enums and named arguments\n",
    "Like java records. Immutable with a `copy` method, comparison methods, and `toString` method."
   ]
  },
  {
   "metadata": {},
   "cell_type": "code",
   "outputs": [],
   "execution_count": null,
   "source": [
    "enum class Personality {\n",
    "  INTROVERT,\n",
    "  EXTROVERT\n",
    "}\n",
    "\n",
    "data class Person(\n",
    "  val name: String,\n",
    "  val age: Int,\n",
    "  val personality: Personality,\n",
    ")\n",
    "\n",
    "val person = Person(\n",
    "  name = \"John\",\n",
    "  age = 30,\n",
    "  personality = Personality.EXTROVERT,\n",
    ")\n",
    "\n",
    "val areEaqual = person == Person(\"John\", 30, Personality.EXTROVERT) // true\n",
    "\n",
    "// Named arguments\n",
    "data class ThatBooleanCollectionWeAllHate(\n",
    "  val hasBeenValidated: Boolean = false,\n",
    "  val valIsReadyForProcessing: Boolean,\n",
    "  val thatThirdBoolean: Boolean,\n",
    ")\n",
    "\n",
    "val noIdeaWhatsGoingOn = ThatBooleanCollectionWeAllHate(true, true, false)\n",
    "\n",
    "//val easyToRead = ThatBooleanCollectionWeAllHate(\n",
    "//    hasBeenValidated = true,\n",
    "//    valIsReadyForProcessing = true,\n",
    "//    thatThirdBoolean = false,\n",
    "//)\n",
    "\n"
   ]
  },
  {
   "metadata": {},
   "cell_type": "markdown",
   "source": "# Extension Functions"
  },
  {
   "metadata": {
    "ExecuteTime": {
     "end_time": "2024-09-12T14:05:10.111247Z",
     "start_time": "2024-09-12T14:05:10.057789Z"
    }
   },
   "cell_type": "code",
   "source": [
    "val start = \"piss off\"\n",
    "\n",
    "// Without extension functions\n",
    "fun sensor(input: String) = input.replace(\"piss off\", \"hi ya!\")\n",
    "fun addExclamation(input: String) = \"$input!\"\n",
    "\n",
    "val resultWithoutExtension = addExclamation(sensor(start))\n",
    "\n",
    "// With extension functions chained functions become a lot more readable\n",
    "fun String.sensor() = sensor(this)\n",
    "fun String.addExclamation() = \"$this!\"\n",
    "\n",
    "val result = start\n",
    "  .sensor()\n",
    "  .addExclamation()\n",
    "\n",
    "// Can increase readability.\n",
    "// Domain example:\n",
    "data class Event(\n",
    "  val eventCode: Int,\n",
    "  val causeCode: Int,\n",
    ")\n",
    "\n",
    "enum class EventCode(val code: Int) {\n",
    "  DEVIATION(2000),\n",
    "  DAMAGED(400)\n",
    "}\n",
    "\n",
    "enum class EventCause(val code: Int) {\n",
    "  DELAYED_IN_SECURITY_CONTROL(5),\n",
    "  MESSED_UP(2000),\n",
    "  LOST(400)\n",
    "}\n",
    "\n",
    "fun Event.isLost() = eventCode == EventCode.DEVIATION.code && causeCode == EventCause.LOST.code\n",
    "\n",
    "fun Event.isDamaged() = eventCode == EventCode.DAMAGED.code || isDestroyedInSecurityControl()\n",
    "\n",
    "fun Event.isDestroyedInSecurityControl() =\n",
    "  eventCode == EventCode.DEVIATION.code &&\n",
    "    causeCode == EventCause.DELAYED_IN_SECURITY_CONTROL.code\n",
    "\n",
    "// Extension functions allow you to write more declrative code\n",
    "fun List<Event>.removeAllDestroyedShipmentsUnlessLostFirst() =\n",
    "  filter { !it.isLost() || it.isDestroyedInSecurityControl() }\n",
    "\n",
    "val result = listOf(Event(2000, 5), Event(2000, 2000), Event(400, 400))\n",
    "  .sortedBy { it.eventCode }\n",
    "  .removeAllDestroyedShipmentsUnlessLostFirst()\n",
    "  .maxOf { it.causeCode }\n",
    "\n",
    "\n"
   ],
   "outputs": [
    {
     "ename": "org.jetbrains.kotlinx.jupyter.exceptions.ReplCompilerException",
     "evalue": " (4:1 - 64) Platform declaration clash: The following declarations have the same JVM signature (sensor(Ljava/lang/String;)Ljava/lang/String;):\n    fun sensor(input: String): String defined in Line_6_jupyter\n    fun String.sensor(): String defined in Line_6_jupyter\n (10:1 - 35) Platform declaration clash: The following declarations have the same JVM signature (sensor(Ljava/lang/String;)Ljava/lang/String;):\n    fun sensor(input: String): String defined in Line_6_jupyter\n    fun String.sensor(): String defined in Line_6_jupyter\n (5:1 - 46) Platform declaration clash: The following declarations have the same JVM signature (addExclamation(Ljava/lang/String;)Ljava/lang/String;):\n    fun addExclamation(input: String): String defined in Line_6_jupyter\n    fun String.addExclamation(): String defined in Line_6_jupyter\n (11:1 - 39) Platform declaration clash: The following declarations have the same JVM signature (addExclamation(Ljava/lang/String;)Ljava/lang/String;):\n    fun addExclamation(input: String): String defined in Line_6_jupyter\n    fun String.addExclamation(): String defined in Line_6_jupyter",
     "output_type": "error",
     "traceback": [
      "org.jetbrains.kotlinx.jupyter.exceptions.ReplCompilerException:  (4:1 - 64) Platform declaration clash: The following declarations have the same JVM signature (sensor(Ljava/lang/String;)Ljava/lang/String;):",
      "    fun sensor(input: String): String defined in Line_6_jupyter",
      "    fun String.sensor(): String defined in Line_6_jupyter",
      " (10:1 - 35) Platform declaration clash: The following declarations have the same JVM signature (sensor(Ljava/lang/String;)Ljava/lang/String;):",
      "    fun sensor(input: String): String defined in Line_6_jupyter",
      "    fun String.sensor(): String defined in Line_6_jupyter",
      " (5:1 - 46) Platform declaration clash: The following declarations have the same JVM signature (addExclamation(Ljava/lang/String;)Ljava/lang/String;):",
      "    fun addExclamation(input: String): String defined in Line_6_jupyter",
      "    fun String.addExclamation(): String defined in Line_6_jupyter",
      " (11:1 - 39) Platform declaration clash: The following declarations have the same JVM signature (addExclamation(Ljava/lang/String;)Ljava/lang/String;):",
      "    fun addExclamation(input: String): String defined in Line_6_jupyter",
      "    fun String.addExclamation(): String defined in Line_6_jupyter",
      "\tat org.jetbrains.kotlinx.jupyter.repl.impl.JupyterCompilerImpl.compileSync(JupyterCompilerImpl.kt:201)",
      "\tat org.jetbrains.kotlinx.jupyter.repl.impl.InternalEvaluatorImpl.eval(InternalEvaluatorImpl.kt:126)",
      "\tat org.jetbrains.kotlinx.jupyter.repl.impl.CellExecutorImpl$execute$1$result$1.invoke(CellExecutorImpl.kt:80)",
      "\tat org.jetbrains.kotlinx.jupyter.repl.impl.CellExecutorImpl$execute$1$result$1.invoke(CellExecutorImpl.kt:78)",
      "\tat org.jetbrains.kotlinx.jupyter.repl.impl.ReplForJupyterImpl.withHost(ReplForJupyterImpl.kt:738)",
      "\tat org.jetbrains.kotlinx.jupyter.repl.impl.CellExecutorImpl.execute-L4Nmkdk(CellExecutorImpl.kt:78)",
      "\tat org.jetbrains.kotlinx.jupyter.repl.execution.CellExecutor$DefaultImpls.execute-L4Nmkdk$default(CellExecutor.kt:13)",
      "\tat org.jetbrains.kotlinx.jupyter.repl.impl.ReplForJupyterImpl.evaluateUserCode-wNURfNM(ReplForJupyterImpl.kt:561)",
      "\tat org.jetbrains.kotlinx.jupyter.repl.impl.ReplForJupyterImpl.access$evaluateUserCode-wNURfNM(ReplForJupyterImpl.kt:139)",
      "\tat org.jetbrains.kotlinx.jupyter.repl.impl.ReplForJupyterImpl$evalEx$1.invoke(ReplForJupyterImpl.kt:418)",
      "\tat org.jetbrains.kotlinx.jupyter.repl.impl.ReplForJupyterImpl$evalEx$1.invoke(ReplForJupyterImpl.kt:415)",
      "\tat org.jetbrains.kotlinx.jupyter.repl.impl.ReplForJupyterImpl.withEvalContext(ReplForJupyterImpl.kt:396)",
      "\tat org.jetbrains.kotlinx.jupyter.repl.impl.ReplForJupyterImpl.evalEx(ReplForJupyterImpl.kt:415)",
      "\tat org.jetbrains.kotlinx.jupyter.messaging.IdeCompatibleMessageRequestProcessor$processExecuteRequest$1$response$1$1.invoke(IdeCompatibleMessageRequestProcessor.kt:136)",
      "\tat org.jetbrains.kotlinx.jupyter.messaging.IdeCompatibleMessageRequestProcessor$processExecuteRequest$1$response$1$1.invoke(IdeCompatibleMessageRequestProcessor.kt:135)",
      "\tat org.jetbrains.kotlinx.jupyter.execution.JupyterExecutorImpl$Task.execute(JupyterExecutorImpl.kt:42)",
      "\tat org.jetbrains.kotlinx.jupyter.execution.JupyterExecutorImpl$executorThread$1.invoke(JupyterExecutorImpl.kt:82)",
      "\tat org.jetbrains.kotlinx.jupyter.execution.JupyterExecutorImpl$executorThread$1.invoke(JupyterExecutorImpl.kt:80)",
      "\tat kotlin.concurrent.ThreadsKt$thread$thread$1.run(Thread.kt:30)",
      ""
     ]
    }
   ],
   "execution_count": 5
  },
  {
   "metadata": {},
   "cell_type": "markdown",
   "source": ""
  },
  {
   "metadata": {},
   "cell_type": "markdown",
   "source": "# Higher order functions"
  },
  {
   "metadata": {},
   "cell_type": "code",
   "outputs": [],
   "execution_count": null,
   "source": [
    "fun String.containsBadWord() = this.contains(\"bad word\")\n",
    "\n",
    "fun sensorFirst(input: String, action: (String) -> Unit) =\n",
    "  if (input.containsBadWord()) {\n",
    "    println(\"Not allowdd\")\n",
    "    // Implicit return\n",
    "    Unit\n",
    "  } else action(input)\n",
    "\n",
    "fun printInput(input: String) = println(\"Input: $input\")\n",
    "\n",
    "val functionReference = sensorFirst(\"test\", ::printInput)\n",
    "val hardToReadResult = sensorFirst(\"bad\", { printInput(\"Hello World\") })\n",
    "\n",
    "val suuugar = sensorFirst(\"no need for second argument!\") {\n",
    "  println(\"Hello World\")\n",
    "}\n",
    "\n",
    "// More concrete example\n",
    "data class User(val name: String, val age: Int, val isAdmin: Boolean)\n",
    "\n",
    "fun <T> withLoggedInAdminUser(\n",
    "  username: String?,\n",
    "  f: (user: User) -> T,\n",
    "): T {\n",
    "  val user = UserDao.findUser(username)\n",
    "  if (user == null || !user.isAdmin) {\n",
    "    throw IllegalArgumentException(\"User is not an admin\")\n",
    "  }\n",
    "  return f(user)\n",
    "}\n",
    "\n",
    "val user = User(\"John\", 30, isAdmin = true)\n",
    "withLoggedInAdminUser(\"username\") { userWeKnowIsAdmin ->\n",
    "  println(\"User is an admin: $userWeKnowIsAdmin\")\n",
    "  // ...\n",
    "}\n"
   ]
  },
  {
   "metadata": {},
   "cell_type": "code",
   "outputs": [],
   "execution_count": null,
   "source": ""
  },
  {
   "metadata": {},
   "cell_type": "code",
   "outputs": [],
   "execution_count": null,
   "source": ""
  }
 ],
 "metadata": {
  "kernelspec": {
   "display_name": "Kotlin",
   "language": "kotlin",
   "name": "kotlin"
  },
  "language_info": {
   "name": "kotlin",
   "version": "1.9.23",
   "mimetype": "text/x-kotlin",
   "file_extension": ".kt",
   "pygments_lexer": "kotlin",
   "codemirror_mode": "text/x-kotlin",
   "nbconvert_exporter": ""
  }
 },
 "nbformat": 4,
 "nbformat_minor": 0
}

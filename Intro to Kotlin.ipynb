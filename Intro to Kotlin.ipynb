{
 "cells": [
  {
   "metadata": {},
   "cell_type": "markdown",
   "source": "# Null safety"
  },
  {
   "cell_type": "code",
   "metadata": {
    "collapsed": true,
    "ExecuteTime": {
     "end_time": "2024-09-12T13:34:32.993052Z",
     "start_time": "2024-09-12T13:34:32.881170Z"
    }
   },
   "source": [
    "var myString = \"Hello World\"\n",
    "myString = null\n",
    "\n",
    "// Have to explicilty state that a variable can be null\n",
    "var myNullableString: String? = \"Hello World\"\n",
    "\n",
    "myNullableString = null\n",
    "\n",
    "myString.length\n",
    "myNullableString?.length\n",
    "myNullableString.length // Not allowed\n",
    "\n",
    "// Useful operators\n",
    "myNullableString?.let {\n",
    "    println(it)\n",
    "}\n",
    "\n",
    "myNullableString ?: \"Default Value\"\n",
    "myNullableString ?: throw IllegalArgumentException(\"Value can't be null\")\n",
    "\n",
    "\n",
    "myNullableString!!.length // Throw a null pointer exception if the value is null.\n"
   ],
   "outputs": [
    {
     "ename": "org.jetbrains.kotlinx.jupyter.exceptions.ReplCompilerException",
     "evalue": "Line_2.jupyter.kts (2:12 - 16) Null can not be a value of a non-null type String\nLine_2.jupyter.kts (11:17 - 18) Only safe (?.) or non-null asserted (!!.) calls are allowed on a nullable receiver of type String?",
     "output_type": "error",
     "traceback": [
      "org.jetbrains.kotlinx.jupyter.exceptions.ReplCompilerException: Line_2.jupyter.kts (2:12 - 16) Null can not be a value of a non-null type String",
      "Line_2.jupyter.kts (11:17 - 18) Only safe (?.) or non-null asserted (!!.) calls are allowed on a nullable receiver of type String?",
      "\tat org.jetbrains.kotlinx.jupyter.repl.impl.JupyterCompilerImpl.compileSync(JupyterCompilerImpl.kt:201)",
      "\tat org.jetbrains.kotlinx.jupyter.repl.impl.InternalEvaluatorImpl.eval(InternalEvaluatorImpl.kt:126)",
      "\tat org.jetbrains.kotlinx.jupyter.repl.impl.CellExecutorImpl$execute$1$result$1.invoke(CellExecutorImpl.kt:80)",
      "\tat org.jetbrains.kotlinx.jupyter.repl.impl.CellExecutorImpl$execute$1$result$1.invoke(CellExecutorImpl.kt:78)",
      "\tat org.jetbrains.kotlinx.jupyter.repl.impl.ReplForJupyterImpl.withHost(ReplForJupyterImpl.kt:738)",
      "\tat org.jetbrains.kotlinx.jupyter.repl.impl.CellExecutorImpl.execute-L4Nmkdk(CellExecutorImpl.kt:78)",
      "\tat org.jetbrains.kotlinx.jupyter.repl.execution.CellExecutor$DefaultImpls.execute-L4Nmkdk$default(CellExecutor.kt:13)",
      "\tat org.jetbrains.kotlinx.jupyter.repl.impl.ReplForJupyterImpl.evaluateUserCode-wNURfNM(ReplForJupyterImpl.kt:561)",
      "\tat org.jetbrains.kotlinx.jupyter.repl.impl.ReplForJupyterImpl.access$evaluateUserCode-wNURfNM(ReplForJupyterImpl.kt:139)",
      "\tat org.jetbrains.kotlinx.jupyter.repl.impl.ReplForJupyterImpl$evalEx$1.invoke(ReplForJupyterImpl.kt:418)",
      "\tat org.jetbrains.kotlinx.jupyter.repl.impl.ReplForJupyterImpl$evalEx$1.invoke(ReplForJupyterImpl.kt:415)",
      "\tat org.jetbrains.kotlinx.jupyter.repl.impl.ReplForJupyterImpl.withEvalContext(ReplForJupyterImpl.kt:396)",
      "\tat org.jetbrains.kotlinx.jupyter.repl.impl.ReplForJupyterImpl.evalEx(ReplForJupyterImpl.kt:415)",
      "\tat org.jetbrains.kotlinx.jupyter.messaging.IdeCompatibleMessageRequestProcessor$processExecuteRequest$1$response$1$1.invoke(IdeCompatibleMessageRequestProcessor.kt:136)",
      "\tat org.jetbrains.kotlinx.jupyter.messaging.IdeCompatibleMessageRequestProcessor$processExecuteRequest$1$response$1$1.invoke(IdeCompatibleMessageRequestProcessor.kt:135)",
      "\tat org.jetbrains.kotlinx.jupyter.execution.JupyterExecutorImpl$Task.execute(JupyterExecutorImpl.kt:42)",
      "\tat org.jetbrains.kotlinx.jupyter.execution.JupyterExecutorImpl$executorThread$1.invoke(JupyterExecutorImpl.kt:82)",
      "\tat org.jetbrains.kotlinx.jupyter.execution.JupyterExecutorImpl$executorThread$1.invoke(JupyterExecutorImpl.kt:80)",
      "\tat kotlin.concurrent.ThreadsKt$thread$thread$1.run(Thread.kt:30)",
      ""
     ]
    }
   ],
   "execution_count": 1
  },
  {
   "metadata": {},
   "cell_type": "markdown",
   "source": "# Built in functions\n"
  },
  {
   "metadata": {
    "ExecuteTime": {
     "end_time": "2024-09-12T13:55:12.905586Z",
     "start_time": "2024-09-12T13:55:12.585842Z"
    }
   },
   "cell_type": "code",
   "source": [
    "// No need for streams 🙏🏻\n",
    "val myList = listOf(1, 2, 3, 4, 5)\n",
    "val myMap = mapOf(1 to \"one\", 2 to \"two\", 3 to \"three\")\n",
    "val mySet = setOf(1, 2, 3, 4, 5)\n",
    "val pair = Pair(1, \"one\") // Like a tuple in Python\n",
    "val triple = Triple(1, \"one\", 1.0) // Even have tripples\n",
    "\n",
    "// Basics\n",
    "val first = myList.first()\n",
    "val firstOrNull = myList.firstOrNull { it > 5 }\n",
    "val last = myList.last()\n",
    "val sorted = myList.sorted()\n",
    "val reversed = myList.reversed()\n",
    "val even = myList.filter { it % 2 == 0 }\n",
    "val mapped = myList.map { it * 2 }\n",
    "val sum = myList.sum()\n",
    "val firstTwo = myList.take(2)\n",
    "val drop = myList.drop(2)\n",
    "\n",
    "// More advanced\n",
    "val all: Boolean = myList.all { it > 0 }\n",
    "val associated = myList.associate { it to it * 2 }\n",
    "val associtedBy = myList.associateBy { it * 2 }\n",
    "val grouped = myList.groupBy { if (it % 2 == 0) \"even\" else \"odd\" }\n",
    "\n",
    "println(\"Associated: $associated, AssociatedBy: $associtedBy, Grouped: $grouped\")\n",
    "\n",
    "val count = myList.count { it % 2 == 0 }\n",
    "val chunked = myList.chunked(2)\n",
    "val windowed = myList.windowed(2)\n",
    "val distinct = myList.distinct()\n",
    "val distinctBy = myList.distinctBy { it % 2 }\n",
    "val (evenList, oddList) = myList.partition { it % 2 == 0 }\n",
    "\n",
    "println(\"Distinct: $distinct, DistinctBy: $distinctBy, Partition: $evenList, $oddList\")\n",
    "\n",
    "// Odly specific\n",
    "val firstNotNull = myList.firstNotNullOfOrNull { it.toString() }\n",
    "\n",
    "val nullableList: List<Int?> = listOf(1, 2, null, 4, 5)\n",
    "val nonNullList: List<Int> = nullableList.filterNotNull()"
   ],
   "outputs": [
    {
     "name": "stdout",
     "output_type": "stream",
     "text": [
      "Associated: {1=2, 2=4, 3=6, 4=8, 5=10}, AssociatedBy: {2=1, 4=2, 6=3, 8=4, 10=5}, Grouped: {odd=[1, 3, 5], even=[2, 4]}\n"
     ]
    }
   ],
   "execution_count": 3
  },
  {
   "metadata": {},
   "cell_type": "markdown",
   "source": "# Extension Functions"
  },
  {
   "metadata": {
    "ExecuteTime": {
     "end_time": "2024-09-12T14:05:10.111247Z",
     "start_time": "2024-09-12T14:05:10.057789Z"
    }
   },
   "cell_type": "code",
   "source": [
    "val start = \"piss off\"\n",
    "\n",
    "// Without extension functions\n",
    "fun sensor(input: String) = input.replace(\"piss off\", \"hi ya!\")\n",
    "fun addExclamation(input: String) = \"$input!\"\n",
    "\n",
    "val resultWithout = addExclamation(sensor(start))\n",
    "\n",
    "// With extension functions\n",
    "fun String.sensor() = sensor(this)\n",
    "fun String.addExclamation() = \"$this!\"\n",
    "\n",
    "\n",
    "val result = start.sensor().addExclamation()\n",
    "println(\"Result: $result\")\n"
   ],
   "outputs": [
    {
     "ename": "org.jetbrains.kotlinx.jupyter.exceptions.ReplCompilerException",
     "evalue": " (4:1 - 64) Platform declaration clash: The following declarations have the same JVM signature (sensor(Ljava/lang/String;)Ljava/lang/String;):\n    fun sensor(input: String): String defined in Line_6_jupyter\n    fun String.sensor(): String defined in Line_6_jupyter\n (10:1 - 35) Platform declaration clash: The following declarations have the same JVM signature (sensor(Ljava/lang/String;)Ljava/lang/String;):\n    fun sensor(input: String): String defined in Line_6_jupyter\n    fun String.sensor(): String defined in Line_6_jupyter\n (5:1 - 46) Platform declaration clash: The following declarations have the same JVM signature (addExclamation(Ljava/lang/String;)Ljava/lang/String;):\n    fun addExclamation(input: String): String defined in Line_6_jupyter\n    fun String.addExclamation(): String defined in Line_6_jupyter\n (11:1 - 39) Platform declaration clash: The following declarations have the same JVM signature (addExclamation(Ljava/lang/String;)Ljava/lang/String;):\n    fun addExclamation(input: String): String defined in Line_6_jupyter\n    fun String.addExclamation(): String defined in Line_6_jupyter",
     "output_type": "error",
     "traceback": [
      "org.jetbrains.kotlinx.jupyter.exceptions.ReplCompilerException:  (4:1 - 64) Platform declaration clash: The following declarations have the same JVM signature (sensor(Ljava/lang/String;)Ljava/lang/String;):",
      "    fun sensor(input: String): String defined in Line_6_jupyter",
      "    fun String.sensor(): String defined in Line_6_jupyter",
      " (10:1 - 35) Platform declaration clash: The following declarations have the same JVM signature (sensor(Ljava/lang/String;)Ljava/lang/String;):",
      "    fun sensor(input: String): String defined in Line_6_jupyter",
      "    fun String.sensor(): String defined in Line_6_jupyter",
      " (5:1 - 46) Platform declaration clash: The following declarations have the same JVM signature (addExclamation(Ljava/lang/String;)Ljava/lang/String;):",
      "    fun addExclamation(input: String): String defined in Line_6_jupyter",
      "    fun String.addExclamation(): String defined in Line_6_jupyter",
      " (11:1 - 39) Platform declaration clash: The following declarations have the same JVM signature (addExclamation(Ljava/lang/String;)Ljava/lang/String;):",
      "    fun addExclamation(input: String): String defined in Line_6_jupyter",
      "    fun String.addExclamation(): String defined in Line_6_jupyter",
      "\tat org.jetbrains.kotlinx.jupyter.repl.impl.JupyterCompilerImpl.compileSync(JupyterCompilerImpl.kt:201)",
      "\tat org.jetbrains.kotlinx.jupyter.repl.impl.InternalEvaluatorImpl.eval(InternalEvaluatorImpl.kt:126)",
      "\tat org.jetbrains.kotlinx.jupyter.repl.impl.CellExecutorImpl$execute$1$result$1.invoke(CellExecutorImpl.kt:80)",
      "\tat org.jetbrains.kotlinx.jupyter.repl.impl.CellExecutorImpl$execute$1$result$1.invoke(CellExecutorImpl.kt:78)",
      "\tat org.jetbrains.kotlinx.jupyter.repl.impl.ReplForJupyterImpl.withHost(ReplForJupyterImpl.kt:738)",
      "\tat org.jetbrains.kotlinx.jupyter.repl.impl.CellExecutorImpl.execute-L4Nmkdk(CellExecutorImpl.kt:78)",
      "\tat org.jetbrains.kotlinx.jupyter.repl.execution.CellExecutor$DefaultImpls.execute-L4Nmkdk$default(CellExecutor.kt:13)",
      "\tat org.jetbrains.kotlinx.jupyter.repl.impl.ReplForJupyterImpl.evaluateUserCode-wNURfNM(ReplForJupyterImpl.kt:561)",
      "\tat org.jetbrains.kotlinx.jupyter.repl.impl.ReplForJupyterImpl.access$evaluateUserCode-wNURfNM(ReplForJupyterImpl.kt:139)",
      "\tat org.jetbrains.kotlinx.jupyter.repl.impl.ReplForJupyterImpl$evalEx$1.invoke(ReplForJupyterImpl.kt:418)",
      "\tat org.jetbrains.kotlinx.jupyter.repl.impl.ReplForJupyterImpl$evalEx$1.invoke(ReplForJupyterImpl.kt:415)",
      "\tat org.jetbrains.kotlinx.jupyter.repl.impl.ReplForJupyterImpl.withEvalContext(ReplForJupyterImpl.kt:396)",
      "\tat org.jetbrains.kotlinx.jupyter.repl.impl.ReplForJupyterImpl.evalEx(ReplForJupyterImpl.kt:415)",
      "\tat org.jetbrains.kotlinx.jupyter.messaging.IdeCompatibleMessageRequestProcessor$processExecuteRequest$1$response$1$1.invoke(IdeCompatibleMessageRequestProcessor.kt:136)",
      "\tat org.jetbrains.kotlinx.jupyter.messaging.IdeCompatibleMessageRequestProcessor$processExecuteRequest$1$response$1$1.invoke(IdeCompatibleMessageRequestProcessor.kt:135)",
      "\tat org.jetbrains.kotlinx.jupyter.execution.JupyterExecutorImpl$Task.execute(JupyterExecutorImpl.kt:42)",
      "\tat org.jetbrains.kotlinx.jupyter.execution.JupyterExecutorImpl$executorThread$1.invoke(JupyterExecutorImpl.kt:82)",
      "\tat org.jetbrains.kotlinx.jupyter.execution.JupyterExecutorImpl$executorThread$1.invoke(JupyterExecutorImpl.kt:80)",
      "\tat kotlin.concurrent.ThreadsKt$thread$thread$1.run(Thread.kt:30)",
      ""
     ]
    }
   ],
   "execution_count": 5
  },
  {
   "metadata": {},
   "cell_type": "markdown",
   "source": ""
  }
 ],
 "metadata": {
  "kernelspec": {
   "display_name": "Kotlin",
   "language": "kotlin",
   "name": "kotlin"
  },
  "language_info": {
   "name": "kotlin",
   "version": "1.9.23",
   "mimetype": "text/x-kotlin",
   "file_extension": ".kt",
   "pygments_lexer": "kotlin",
   "codemirror_mode": "text/x-kotlin",
   "nbconvert_exporter": ""
  }
 },
 "nbformat": 4,
 "nbformat_minor": 0
}
